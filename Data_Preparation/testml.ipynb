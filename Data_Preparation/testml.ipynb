{
 "cells": [
  {
   "cell_type": "code",
   "execution_count": 106,
   "metadata": {
    "collapsed": true
   },
   "outputs": [],
   "source": [
    "import pandas as pd\n",
    "import numpy as np\n",
    "import matplotlib.pyplot as plt\n",
    "from sklearn.pipeline import Pipeline\n",
    "from sklearn.model_selection import train_test_split\n",
    "from catboost import CatBoostRegressor\n",
    "from catboost import CatBoostClassifier\n",
    "from sklearn.preprocessing import FunctionTransformer\n",
    "from sklearn.model_selection import GridSearchCV\n",
    "import lightgbm as lgb\n",
    "from sklearn.metrics import r2_score\n",
    "from sklearn.metrics import recall_score\n",
    "from sklearn.ensemble import GradientBoostingClassifier"
   ]
  },
  {
   "cell_type": "markdown",
   "source": [
    "## Импортируем csv"
   ],
   "metadata": {
    "collapsed": false
   }
  },
  {
   "cell_type": "code",
   "execution_count": 95,
   "outputs": [],
   "source": [
    "data = pd.read_csv('train_dataset_train.csv', sep=',')\n",
    "# data=data.head(150000)\n",
    "# features=data.drop(labels=[\"time_to_under\",\"labels\"])\n"
   ],
   "metadata": {
    "collapsed": false
   }
  },
  {
   "cell_type": "markdown",
   "source": [
    "## Предобработка\n",
    "Удаляем бесполезные колонки и разбивка на тренировочную и тестовую части\n"
   ],
   "metadata": {
    "collapsed": false
   }
  },
  {
   "cell_type": "code",
   "execution_count": 96,
   "outputs": [],
   "source": [
    "data = data.drop(['id', 'ticket_id', 'entrance_id', 'station_id', 'line_id', 'entrance_nm'], axis=1)"
   ],
   "metadata": {
    "collapsed": false
   }
  },
  {
   "cell_type": "code",
   "execution_count": 97,
   "outputs": [],
   "source": [
    "data['pass_dttm'] = pd.to_datetime(data['pass_dttm'])"
   ],
   "metadata": {
    "collapsed": false
   }
  },
  {
   "cell_type": "code",
   "execution_count": 98,
   "outputs": [
    {
     "data": {
      "text/plain": "ticket_type_nm    0\nstation_nm        0\nline_nm           0\npass_dttm         0\ntime_to_under     0\nlabel             0\ndtype: int64"
     },
     "execution_count": 98,
     "metadata": {},
     "output_type": "execute_result"
    }
   ],
   "source": [
    "data.isnull().sum()"
   ],
   "metadata": {
    "collapsed": false
   }
  },
  {
   "cell_type": "code",
   "execution_count": 99,
   "outputs": [],
   "source": [
    "data['hour'] = data['pass_dttm'].dt.hour\n",
    "data['time_of_day'] = data['hour'].apply(\n",
    "    lambda hour: 'day' if hour>=10 and hour<=16 else (\n",
    "        'night' if hour>=0 and hour<=4 else (\n",
    "            'morning' if hour>=4 and hour<=9 else 'evening')))\n",
    "\n",
    "data['weekday'] = data['pass_dttm'].dt.weekday\n",
    "data['is_weekend'] = data['weekday'].apply(\n",
    "    lambda weekday: 1 if weekday>4 else 0)\n",
    "\n",
    "data = data.drop(columns=['pass_dttm', 'hour', 'weekday'])\n"
   ],
   "metadata": {
    "collapsed": false
   }
  },
  {
   "cell_type": "markdown",
   "source": [
    "## Категориальные признаки (тип==обджект)"
   ],
   "metadata": {
    "collapsed": false
   }
  },
  {
   "cell_type": "code",
   "execution_count": 100,
   "outputs": [
    {
     "name": "stdout",
     "output_type": "stream",
     "text": [
      "['ticket_type_nm', 'station_nm', 'line_nm', 'time_of_day']\n"
     ]
    }
   ],
   "source": [
    "obj_feat = list(data.loc[:, data.dtypes=='object'].columns.values)\n",
    "print(obj_feat)"
   ],
   "metadata": {
    "collapsed": false
   }
  },
  {
   "cell_type": "code",
   "execution_count": 101,
   "outputs": [],
   "source": [
    "for feature in obj_feat:\n",
    "    data[feature] = pd.Series(data[feature], dtype='category')"
   ],
   "metadata": {
    "collapsed": false
   }
  },
  {
   "cell_type": "markdown",
   "source": [
    "## Разбиваем на тренировочную и тестововую части"
   ],
   "metadata": {
    "collapsed": false
   }
  },
  {
   "cell_type": "code",
   "execution_count": 102,
   "outputs": [],
   "source": [
    "X = data.drop(columns=['time_to_under', 'label'])\n",
    "y = data['time_to_under']\n",
    "\n",
    "X_train_for_regression, X_test_for_regression, y_train_for_regression, y_test_for_regression = train_test_split(X, y, test_size=0.1)\n",
    "X_train_for_regression, X_test_for_regression, y_train_for_regression, y_test_for_regression = train_test_split(X_test_for_regression, y_test_for_regression, test_size=0.3)"
   ],
   "metadata": {
    "collapsed": false
   }
  },
  {
   "cell_type": "markdown",
   "source": [
    "## Регрессор"
   ],
   "metadata": {
    "collapsed": false
   }
  },
  {
   "cell_type": "code",
   "execution_count": 103,
   "outputs": [
    {
     "name": "stderr",
     "output_type": "stream",
     "text": [
      "D:\\anaconda\\lib\\site-packages\\sklearn\\model_selection\\_validation.py:372: FitFailedWarning: \n",
      "55 fits failed out of a total of 605.\n",
      "The score on these train-test partitions for these parameters will be set to nan.\n",
      "If these failures are not expected, you can try to debug them by setting error_score='raise'.\n",
      "\n",
      "Below are more details about the failures:\n",
      "--------------------------------------------------------------------------------\n",
      "55 fits failed with the following error:\n",
      "Traceback (most recent call last):\n",
      "  File \"D:\\anaconda\\lib\\site-packages\\sklearn\\model_selection\\_validation.py\", line 680, in _fit_and_score\n",
      "    estimator.fit(X_train, y_train, **fit_params)\n",
      "  File \"D:\\anaconda\\lib\\site-packages\\lightgbm\\sklearn.py\", line 895, in fit\n",
      "    super().fit(X, y, sample_weight=sample_weight, init_score=init_score,\n",
      "  File \"D:\\anaconda\\lib\\site-packages\\lightgbm\\sklearn.py\", line 748, in fit\n",
      "    self._Booster = train(\n",
      "  File \"D:\\anaconda\\lib\\site-packages\\lightgbm\\engine.py\", line 271, in train\n",
      "    booster = Booster(params=params, train_set=train_set)\n",
      "  File \"D:\\anaconda\\lib\\site-packages\\lightgbm\\basic.py\", line 2605, in __init__\n",
      "    train_set.construct()\n",
      "  File \"D:\\anaconda\\lib\\site-packages\\lightgbm\\basic.py\", line 1815, in construct\n",
      "    self._lazy_init(self.data, label=self.label,\n",
      "  File \"D:\\anaconda\\lib\\site-packages\\lightgbm\\basic.py\", line 1538, in _lazy_init\n",
      "    self.__init_from_np2d(data, params_str, ref_dataset)\n",
      "  File \"D:\\anaconda\\lib\\site-packages\\lightgbm\\basic.py\", line 1659, in __init_from_np2d\n",
      "    _safe_call(_LIB.LGBM_DatasetCreateFromMat(\n",
      "  File \"D:\\anaconda\\lib\\site-packages\\lightgbm\\basic.py\", line 125, in _safe_call\n",
      "    raise LightGBMError(_LIB.LGBM_GetLastError().decode('utf-8'))\n",
      "lightgbm.basic.LightGBMError: Check failed: (num_leaves) > (1) at D:\\a\\1\\s\\python-package\\compile\\src\\io\\config_auto.cpp, line 334 .\n",
      "\n",
      "\n",
      "  warnings.warn(some_fits_failed_message, FitFailedWarning)\n",
      "D:\\anaconda\\lib\\site-packages\\sklearn\\model_selection\\_search.py:969: UserWarning: One or more of the test scores are non-finite: [       nan 0.08742903 0.08822146 0.08829222 0.08844243 0.08847752\n",
      " 0.08852845 0.08853446 0.08857204 0.08862253 0.08860687        nan\n",
      " 0.4174606  0.41947178 0.41950497 0.41962951 0.41962429 0.41948883\n",
      " 0.41952116 0.41938698 0.4192626  0.41924658        nan 0.45974153\n",
      " 0.46052863 0.45955026 0.45908992 0.45863559 0.45839833 0.45818489\n",
      " 0.45795035 0.45759807 0.45739021        nan 0.46571069 0.46532414\n",
      " 0.46416511 0.46336701 0.46248911 0.46178431 0.4615639  0.46068056\n",
      " 0.46024384 0.45998066        nan 0.46714166 0.46560423 0.46414714\n",
      " 0.46303565 0.46179555 0.46102078 0.46046777 0.45963908 0.45885766\n",
      " 0.45856905        nan 0.46717316 0.46524334 0.46368996 0.46233061\n",
      " 0.4611848  0.46009519 0.4591903  0.45847043 0.45753904 0.45700088\n",
      "        nan 0.46706479 0.46489519 0.46300355 0.46169585 0.46037358\n",
      " 0.45926306 0.45827304 0.45739348 0.45616389 0.45570551        nan\n",
      " 0.46686492 0.46453275 0.46255186 0.46106634 0.45965861 0.45845748\n",
      " 0.45737863 0.45627816 0.45496513 0.45444586        nan 0.46670018\n",
      " 0.46417248 0.46206928 0.46053578 0.45902932 0.45765502 0.45656803\n",
      " 0.45520254 0.45393405 0.45323932        nan 0.46655176 0.46394955\n",
      " 0.46168447 0.46006629 0.45848665 0.45689829 0.4557416  0.45433466\n",
      " 0.45302659 0.45225942        nan 0.46640696 0.46357313 0.46137886\n",
      " 0.45954713 0.45794966 0.45613504 0.45506871 0.45341813 0.4521072\n",
      " 0.4510114 ]\n",
      "  warnings.warn(\n"
     ]
    },
    {
     "name": "stdout",
     "output_type": "stream",
     "text": [
      "{'n_estimators': 51, 'num_leaves': 11}\n"
     ]
    }
   ],
   "source": [
    "gbm = lgb.LGBMRegressor(objective='regression')\n",
    "\n",
    "params = {\n",
    "    'num_leaves': range(1, 102, 10),\n",
    "    'n_estimators': range(1, 102, 10)\n",
    "}\n",
    "grid = GridSearchCV(gbm, params, cv=5)\n",
    "grid.fit(X_train_for_regression, y_train_for_regression)\n",
    "\n",
    "gbm = grid.best_estimator_\n",
    "print(grid.best_params_)\n",
    "\n",
    "gbm.fit(X_train_for_regression, y_train_for_regression)\n",
    "\n",
    "y_predict_for_regression = gbm.predict(X_test_for_regression, num_iteration=gbm.best_iteration_)"
   ],
   "metadata": {
    "collapsed": false
   }
  },
  {
   "cell_type": "code",
   "execution_count": 109,
   "outputs": [],
   "source": [
    "X = data.drop(columns=['time_to_under', 'label'])\n",
    "y = data['label']\n",
    "\n",
    "X_train_for_classifier, X_test_for_classifier, y_train_for_classifier, y_test_for_classifier = train_test_split(X, y, test_size=0.1)\n",
    "\n",
    "X_train_for_classifier, X_test_for_classifier, y_train_for_classifier, y_test_for_classifier = train_test_split(X_test_for_classifier, y_test_for_classifier, test_size=0.3)"
   ],
   "metadata": {
    "collapsed": false
   }
  },
  {
   "cell_type": "markdown",
   "source": [
    "## Классифаер"
   ],
   "metadata": {
    "collapsed": false
   }
  },
  {
   "cell_type": "code",
   "execution_count": 113,
   "outputs": [],
   "source": [
    "gbm = lgb.LGBMClassifier(objective='multiclass', max_depth=20, n_estimators=10)\n",
    "gbm.fit(X_train_for_classifier, y_train_for_classifier)\n",
    "y_predict_for_classifier = gbm.predict(X_test_for_classifier)\n",
    "\n",
    "#classifier=GradientBoostingClassifier(n_iter_no_change=10)\n",
    "#classifier.fit(X_test_for_classifier,np.ravel(y_test_for_classifier))\n",
    "#y_predict_for_classifier=classifier.predict(X_test_for_classifier)"
   ],
   "metadata": {
    "collapsed": false
   }
  },
  {
   "cell_type": "code",
   "execution_count": 114,
   "outputs": [
    {
     "name": "stdout",
     "output_type": "stream",
     "text": [
      "0.2593380304514765\n"
     ]
    }
   ],
   "source": [
    "result = 0.5*r2_score(y_test_for_regression, y_predict_for_regression) + 0.5*recall_score(y_test_for_classifier, y_predict_for_classifier, average='micro')\n",
    "print(result)"
   ],
   "metadata": {
    "collapsed": false
   }
  },
  {
   "cell_type": "markdown",
   "source": [],
   "metadata": {
    "collapsed": false
   }
  },
  {
   "cell_type": "markdown",
   "source": [],
   "metadata": {
    "collapsed": false
   }
  }
 ],
 "metadata": {
  "kernelspec": {
   "display_name": "Python 3",
   "language": "python",
   "name": "python3"
  },
  "language_info": {
   "codemirror_mode": {
    "name": "ipython",
    "version": 2
   },
   "file_extension": ".py",
   "mimetype": "text/x-python",
   "name": "python",
   "nbconvert_exporter": "python",
   "pygments_lexer": "ipython2",
   "version": "2.7.6"
  }
 },
 "nbformat": 4,
 "nbformat_minor": 0
}
